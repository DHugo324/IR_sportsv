{
 "cells": [
  {
   "cell_type": "code",
   "execution_count": 1,
   "id": "28730699",
   "metadata": {
    "execution": {
     "iopub.execute_input": "2025-06-03T14:00:19.161845Z",
     "iopub.status.busy": "2025-06-03T14:00:19.161172Z",
     "iopub.status.idle": "2025-06-03T14:02:06.361844Z",
     "shell.execute_reply": "2025-06-03T14:02:06.360665Z"
    },
    "papermill": {
     "duration": 107.205118,
     "end_time": "2025-06-03T14:02:06.363420",
     "exception": false,
     "start_time": "2025-06-03T14:00:19.158302",
     "status": "completed"
    },
    "tags": []
   },
   "outputs": [
    {
     "name": "stderr",
     "output_type": "stream",
     "text": [
      "2025-06-03 14:00:35.268867: E external/local_xla/xla/stream_executor/cuda/cuda_fft.cc:477] Unable to register cuFFT factory: Attempting to register factory for plugin cuFFT when one has already been registered\n",
      "WARNING: All log messages before absl::InitializeLog() is called are written to STDERR\n",
      "E0000 00:00:1748959235.466302      19 cuda_dnn.cc:8310] Unable to register cuDNN factory: Attempting to register factory for plugin cuDNN when one has already been registered\n",
      "E0000 00:00:1748959235.523466      19 cuda_blas.cc:1418] Unable to register cuBLAS factory: Attempting to register factory for plugin cuBLAS when one has already been registered\n"
     ]
    },
    {
     "name": "stdout",
     "output_type": "stream",
     "text": [
      "config.json\t   special_tokens_map.json  tokenizer.json\r\n",
      "model.safetensors  tokenizer_config.json    vocab.txt\r\n"
     ]
    },
    {
     "name": "stderr",
     "output_type": "stream",
     "text": [
      "100%|██████████| 2481/2481 [01:10<00:00, 35.37it/s]\n",
      "huggingface/tokenizers: The current process just got forked, after parallelism has already been used. Disabling parallelism to avoid deadlocks...\n",
      "To disable this warning, you can either:\n",
      "\t- Avoid using `tokenizers` before the fork if possible\n",
      "\t- Explicitly set the environment variable TOKENIZERS_PARALLELISM=(true | false)\n"
     ]
    },
    {
     "name": "stdout",
     "output_type": "stream",
     "text": [
      "✅ 預測完成，共處理 2481 篇\n"
     ]
    }
   ],
   "source": [
    "# 載入模型\n",
    "import os, json, torch\n",
    "from transformers import BertTokenizerFast, BertForSequenceClassification\n",
    "from tqdm import tqdm\n",
    "import numpy as np\n",
    "\n",
    "# 類別映射\n",
    "label_map = {\n",
    "    0: \"賽事戰報\",\n",
    "    1: \"球隊分析\",\n",
    "    2: \"球員焦點\",\n",
    "    3: \"交易與簽約\",\n",
    "    4: \"教練與管理層\",\n",
    "    5: \"選秀觀察\",\n",
    "    6: \"歷史與專題\"\n",
    "}\n",
    "\n",
    "# 載入 tokenizer 與模型\n",
    "!unzip -q /kaggle/input/sportsv-train-with-title/basketball-bert.zip\n",
    "!ls ./basketball-bert\n",
    "tokenizer = BertTokenizerFast.from_pretrained(\"./basketball-bert\")\n",
    "model = BertForSequenceClassification.from_pretrained(\"./basketball-bert\")\n",
    "device = torch.device(\"cuda\" if torch.cuda.is_available() else \"cpu\")\n",
    "model.to(device)\n",
    "model.eval()\n",
    "\n",
    "# 預測函式\n",
    "def predict(text):\n",
    "    encoding = tokenizer(text, return_tensors='pt', padding=True, truncation=True, max_length=512)\n",
    "    encoding = {k: v.to(device) for k, v in encoding.items()}\n",
    "    with torch.no_grad():\n",
    "        outputs = model(**encoding)\n",
    "        logits = outputs.logits\n",
    "        probs = torch.softmax(logits, dim=1).cpu().numpy()[0]\n",
    "        pred_idx = int(np.argmax(probs))\n",
    "        predicted_tag = label_map[pred_idx]\n",
    "        confidence = float(probs[pred_idx])\n",
    "    return predicted_tag, confidence\n",
    "\n",
    "# ✅ 輸出資料夾\n",
    "os.makedirs(\"./predicted_articles\", exist_ok=True)\n",
    "\n",
    "count = 0\n",
    "for fname in tqdm(os.listdir(\"/kaggle/input/unlabeled-articles/unlabeled_articles\")):\n",
    "    if not fname.endswith(\".json\"):\n",
    "        continue\n",
    "    try:\n",
    "        with open(f\"/kaggle/input/unlabeled-articles/unlabeled_articles/{fname}\", \"r\", encoding=\"utf-8\") as f:\n",
    "            data = json.load(f)\n",
    "            content = \" \".join(data.get(\"article-content\", []))\n",
    "            if not content.strip():\n",
    "                continue\n",
    "            predicted_tag, confidence = predict(content)\n",
    "            data[\"predicted_category\"] = predicted_tag\n",
    "            data[\"confidence\"] = round(confidence, 4)\n",
    "        with open(f\"./predicted_articles/{fname}\", \"w\", encoding=\"utf-8\") as f:\n",
    "            json.dump(data, f, ensure_ascii=False, indent=2)\n",
    "        count += 1\n",
    "    except Exception as e:\n",
    "        print(f\"❌ {fname} 發生錯誤：{e}\")\n",
    "print(f\"✅ 預測完成，共處理 {count} 篇\")\n",
    "\n",
    "# ✅ 壓縮輸出資料夾供下載\n",
    "!zip -qr predicted_articles.zip predicted_articles"
   ]
  }
 ],
 "metadata": {
  "kaggle": {
   "accelerator": "none",
   "dataSources": [
    {
     "datasetId": 7564292,
     "sourceId": 12047589,
     "sourceType": "datasetVersion"
    },
    {
     "sourceId": 243451888,
     "sourceType": "kernelVersion"
    }
   ],
   "dockerImageVersionId": 31040,
   "isGpuEnabled": false,
   "isInternetEnabled": true,
   "language": "python",
   "sourceType": "notebook"
  },
  "kernelspec": {
   "display_name": "Python 3",
   "language": "python",
   "name": "python3"
  },
  "language_info": {
   "codemirror_mode": {
    "name": "ipython",
    "version": 3
   },
   "file_extension": ".py",
   "mimetype": "text/x-python",
   "name": "python",
   "nbconvert_exporter": "python",
   "pygments_lexer": "ipython3",
   "version": "3.11.11"
  },
  "papermill": {
   "default_parameters": {},
   "duration": 114.289151,
   "end_time": "2025-06-03T14:02:09.292721",
   "environment_variables": {},
   "exception": null,
   "input_path": "__notebook__.ipynb",
   "output_path": "__notebook__.ipynb",
   "parameters": {},
   "start_time": "2025-06-03T14:00:15.003570",
   "version": "2.6.0"
  }
 },
 "nbformat": 4,
 "nbformat_minor": 5
}
